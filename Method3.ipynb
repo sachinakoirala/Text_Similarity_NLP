{
  "nbformat": 4,
  "nbformat_minor": 0,
  "metadata": {
    "colab": {
      "provenance": []
    },
    "kernelspec": {
      "name": "python3",
      "display_name": "Python 3"
    },
    "language_info": {
      "name": "python"
    }
  },
  "cells": [
    {
      "cell_type": "markdown",
      "source": [
        "#Method 3: Hashing Vectorizer Based Similarity"
      ],
      "metadata": {
        "id": "aeq3-jCGWoUZ"
      }
    },
    {
      "cell_type": "code",
      "source": [
        "from google.colab import drive\n",
        "drive.mount('/content/drive')\n",
        "import pandas as pd\n",
        "\n",
        "# Load the dataset\n",
        "train_data_path = '/content/drive/My Drive/data-train.csv'\n",
        "train_df = pd.read_csv(train_data_path)"
      ],
      "metadata": {
        "colab": {
          "base_uri": "https://localhost:8080/"
        },
        "id": "Bortdb1a5OGb",
        "outputId": "169fccc1-6e62-4683-85e0-17efdd70dfc7"
      },
      "execution_count": 5,
      "outputs": [
        {
          "output_type": "stream",
          "name": "stdout",
          "text": [
            "Drive already mounted at /content/drive; to attempt to forcibly remount, call drive.mount(\"/content/drive\", force_remount=True).\n"
          ]
        }
      ]
    },
    {
      "cell_type": "markdown",
      "source": [
        "#Sampling 10,000 essays and finding the top 10 pair of similar essays using HashingVectorizer"
      ],
      "metadata": {
        "id": "x6mo4421XbL3"
      }
    },
    {
      "cell_type": "code",
      "source": [
        "from sklearn.feature_extraction.text import HashingVectorizer\n",
        "from sklearn.metrics.pairwise import cosine_similarity\n",
        "import numpy as np\n",
        "import pandas as pd\n",
        "import time\n",
        "\n",
        "# Start measuring time\n",
        "start_time = time.time()\n",
        "\n",
        "# Remove essays containing \"PROPER_NAME\" and remove duplicates\n",
        "filtered_df = train_df[~train_df['full_text'].str.contains(\"PROPER_NAME\", na=False)].drop_duplicates(subset='full_text')\n",
        "\n",
        "# Count the number of essays after filtering\n",
        "num_essays_after_filtering = filtered_df.shape[0]\n",
        "\n",
        "# Output the results\n",
        "print(f\"Number of essays after filtering: {num_essays_after_filtering}\")\n",
        "\n",
        "# Sample a subset of the essays\n",
        "sample_size = min(10000, filtered_df.shape[0])\n",
        "sampled_df = filtered_df.sample(n=sample_size, random_state=42).reset_index(drop=True)\n",
        "\n",
        "# Extract the 'full_text' column from the sampled dataset\n",
        "essays = sampled_df['full_text']\n",
        "\n",
        "# Create vectors using HashingVectorizer\n",
        "vectorizer = HashingVectorizer(n_features=10000, alternate_sign=False)\n",
        "essay_vectors = vectorizer.fit_transform(essays)\n",
        "\n",
        "# Calculate cosine similarity for the sampled essays\n",
        "print(\"Calculating pairwise cosine similarity for the sampled essays using Hashing Vectorizer...\")\n",
        "similarity_matrix = cosine_similarity(essay_vectors)\n",
        "\n",
        "# Find the top 10 similar pairs (excluding self-pairs and exact duplicates)\n",
        "num_top_pairs = 10\n",
        "top_similar_pairs = []\n",
        "\n",
        "for i in range(similarity_matrix.shape[0]):\n",
        "    for j in range(i + 1, similarity_matrix.shape[0]):\n",
        "        if similarity_matrix[i, j] < 1.0:  # Exclude exact duplicates (score of 1.0)\n",
        "            top_similar_pairs.append((i, j, similarity_matrix[i, j]))\n",
        "\n",
        "# Sort the pairs by similarity score in descending order and get the top pairs\n",
        "top_similar_pairs = sorted(top_similar_pairs, key=lambda x: -x[2])[:num_top_pairs]\n",
        "\n",
        "# Stop measuring time\n",
        "end_time = time.time()\n",
        "execution_time = end_time - start_time\n",
        "\n",
        "# Print the execution time\n",
        "print(f\"Execution time: {execution_time:.2f} seconds\")\n",
        "\n",
        "# Print the top similar pairs with their essay IDs and one-line previews\n",
        "print(\"\\nTop Similar Pairs of Essays among 10000 samples (Hashing Vectorizer):\")\n",
        "for idx, (i, j, similarity) in enumerate(top_similar_pairs):\n",
        "    essay_id_1, essay_id_2 = sampled_df.loc[i, 'essay_id'], sampled_df.loc[j, 'essay_id']\n",
        "    preview_1, preview_2 = sampled_df.loc[i, 'full_text'][:100], sampled_df.loc[j, 'full_text'][:100]\n",
        "    print(f\"Pair {idx + 1}: Essay IDs {essay_id_1} and {essay_id_2} with Similarity Score: {similarity:.4f}\")\n"
      ],
      "metadata": {
        "colab": {
          "base_uri": "https://localhost:8080/"
        },
        "id": "mFFyvdAMZaZx",
        "outputId": "736e2b73-1bbf-4a2d-beb0-9c76abea3618"
      },
      "execution_count": 9,
      "outputs": [
        {
          "output_type": "stream",
          "name": "stdout",
          "text": [
            "Number of essays after filtering: 17028\n",
            "Calculating pairwise cosine similarity for the sampled essays using Hashing Vectorizer...\n",
            "Execution time: 175.95 seconds\n",
            "\n",
            "Top Similar Pairs of Essays among 10000 samples (Hashing Vectorizer):\n",
            "Pair 1: Essay IDs 29aa983 and 6d25307 with Similarity Score: 0.9547\n",
            "Pair 2: Essay IDs 84a1b1a and 287ed5e with Similarity Score: 0.9540\n",
            "Pair 3: Essay IDs 77b1295 and 84a1b1a with Similarity Score: 0.9533\n",
            "Pair 4: Essay IDs 84a1b1a and 66ee32e with Similarity Score: 0.9523\n",
            "Pair 5: Essay IDs 5bcf9b0 and 84a1b1a with Similarity Score: 0.9510\n",
            "Pair 6: Essay IDs ef95422 and ea57a9c with Similarity Score: 0.9507\n",
            "Pair 7: Essay IDs e026924 and ebe2ce0 with Similarity Score: 0.9499\n",
            "Pair 8: Essay IDs 99e37ba and ebe2ce0 with Similarity Score: 0.9498\n",
            "Pair 9: Essay IDs 77b1295 and 66ee32e with Similarity Score: 0.9496\n",
            "Pair 10: Essay IDs 77b1295 and ebe2ce0 with Similarity Score: 0.9488\n"
          ]
        }
      ]
    },
    {
      "cell_type": "code",
      "source": [
        "#Print the preview of the essay\n",
        "print(\"\\nTop Similar Pairs of Essays (TF-IDF Cosine Similarity):\")\n",
        "for idx, (i, j, similarity) in enumerate(top_similar_pairs):\n",
        "    essay_id_1, essay_id_2 = sampled_df.loc[i, 'essay_id'], sampled_df.loc[j, 'essay_id']\n",
        "    preview_1, preview_2 = sampled_df.loc[i, 'full_text'][:150], sampled_df.loc[j, 'full_text'][:150]\n",
        "    print(f\"Pair {idx + 1}: Essay IDs {essay_id_1} and {essay_id_2} with Similarity Score: {similarity:.4f}\")\n",
        "    print(f\"Essay {essay_id_1} (Preview): {preview_1[:150]}...\")\n",
        "    print(f\"Essay {essay_id_2} (Preview): {preview_2[:150]}...\\n\")"
      ],
      "metadata": {
        "colab": {
          "base_uri": "https://localhost:8080/"
        },
        "id": "go3Ai7pRSHtW",
        "outputId": "e9a7be00-ae32-4959-dbe9-5cda042abef0"
      },
      "execution_count": 7,
      "outputs": [
        {
          "output_type": "stream",
          "name": "stdout",
          "text": [
            "\n",
            "Top Similar Pairs of Essays (TF-IDF Cosine Similarity):\n",
            "Pair 1: Essay IDs 29aa983 and 6d25307 with Similarity Score: 0.9547\n",
            "Essay 29aa983 (Preview): A new hom\n",
            "\n",
            "whould you send someone to explore venus with the technology that we haave\n",
            "\n",
            "right now? the author of the article\n",
            "\n",
            "the challege of exploring...\n",
            "Essay 6d25307 (Preview): Benefits of Researching a New planet\n",
            "\n",
            "Whould you send someone to explore venus with even if we don't have the technology necessary?The author of the a...\n",
            "\n",
            "Pair 2: Essay IDs 84a1b1a and 287ed5e with Similarity Score: 0.9540\n",
            "Essay 84a1b1a (Preview): Dear state senator,\n",
            "\n",
            "Do you think that we should keep the Electoral College? We should keep the electoral college because the founding fathers establi...\n",
            "Essay 287ed5e (Preview): I think the Electoral college is a good way to vote for the president or vice president because i think without the Electoral college, we wouldn't hav...\n",
            "\n",
            "Pair 3: Essay IDs 77b1295 and 84a1b1a with Similarity Score: 0.9533\n",
            "Essay 77b1295 (Preview): The Electoral College has been used since the time of the Founding Fathers. \"The founding fathers established it in the Constitution as a compromise b...\n",
            "Essay 84a1b1a (Preview): Dear state senator,\n",
            "\n",
            "Do you think that we should keep the Electoral College? We should keep the electoral college because the founding fathers establi...\n",
            "\n",
            "Pair 4: Essay IDs 84a1b1a and 66ee32e with Similarity Score: 0.9523\n",
            "Essay 84a1b1a (Preview): Dear state senator,\n",
            "\n",
            "Do you think that we should keep the Electoral College? We should keep the electoral college because the founding fathers establi...\n",
            "Essay 66ee32e (Preview): To begin with, the electoral college process consists of the selection of the electors, the meeting of the electors where they vote for president abd ...\n",
            "\n",
            "Pair 5: Essay IDs 5bcf9b0 and 84a1b1a with Similarity Score: 0.9510\n",
            "Essay 5bcf9b0 (Preview): I think that we should keep the Electoral College but we could also change election by popular vote because there could be problems over the outcome o...\n",
            "Essay 84a1b1a (Preview): Dear state senator,\n",
            "\n",
            "Do you think that we should keep the Electoral College? We should keep the electoral college because the founding fathers establi...\n",
            "\n",
            "Pair 6: Essay IDs ef95422 and ea57a9c with Similarity Score: 0.9507\n",
            "Essay ef95422 (Preview): The Electoral College has been well working for many year and think that we shouldn`t change it because it been an well know process for elections for...\n",
            "Essay ea57a9c (Preview): I think they should because the electoral college is a process not a place. The founding father established it in the constitition as the compromise b...\n",
            "\n",
            "Pair 7: Essay IDs e026924 and ebe2ce0 with Similarity Score: 0.9499\n",
            "Essay e026924 (Preview): Dear senator,\n",
            "\n",
            "What are the chances in favor of keeping the electoral college or changing to election by popular vote for the president of the united ...\n",
            "Essay ebe2ce0 (Preview): The Electoral College is a process, not a place. The founding fathers established it in the Constitution as a compromise between election of the Presi...\n",
            "\n",
            "Pair 8: Essay IDs 99e37ba and ebe2ce0 with Similarity Score: 0.9498\n",
            "Essay 99e37ba (Preview): Dear state senator I feel like we do not need to keep the Electoal College and we need to change the election to popular vote. Even Richard Nixon, Jim...\n",
            "Essay ebe2ce0 (Preview): The Electoral College is a process, not a place. The founding fathers established it in the Constitution as a compromise between election of the Presi...\n",
            "\n",
            "Pair 9: Essay IDs 77b1295 and 66ee32e with Similarity Score: 0.9496\n",
            "Essay 77b1295 (Preview): The Electoral College has been used since the time of the Founding Fathers. \"The founding fathers established it in the Constitution as a compromise b...\n",
            "Essay 66ee32e (Preview): To begin with, the electoral college process consists of the selection of the electors, the meeting of the electors where they vote for president abd ...\n",
            "\n",
            "Pair 10: Essay IDs 77b1295 and ebe2ce0 with Similarity Score: 0.9488\n",
            "Essay 77b1295 (Preview): The Electoral College has been used since the time of the Founding Fathers. \"The founding fathers established it in the Constitution as a compromise b...\n",
            "Essay ebe2ce0 (Preview): The Electoral College is a process, not a place. The founding fathers established it in the Constitution as a compromise between election of the Presi...\n",
            "\n"
          ]
        }
      ]
    }
  ]
}